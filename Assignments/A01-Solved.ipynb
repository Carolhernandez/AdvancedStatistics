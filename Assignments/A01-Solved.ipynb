{
 "cells": [
  {
   "cell_type": "markdown",
   "metadata": {},
   "source": [
    "# Problem 1\n",
    "Write a function that list all the possible outcomes with five dice."
   ]
  },
  {
   "cell_type": "code",
   "execution_count": 1,
   "metadata": {},
   "outputs": [],
   "source": [
    "allRolls5Dice = lambda : [[a+1,b+1,c+1,d+1,e+1] for a in range (6)\\\n",
    "                                                for b in range (6)\\\n",
    "                                                for c in range (6)\\\n",
    "                                                for d in range (6)\\\n",
    "                                                for e in range (6)]"
   ]
  },
  {
   "cell_type": "markdown",
   "metadata": {},
   "source": [
    "# Problem 2\n",
    "Write a function that takes a number of dices and return all the possible outcomes for that amount of dices.\n"
   ]
  },
  {
   "cell_type": "code",
   "execution_count": 2,
   "metadata": {},
   "outputs": [],
   "source": [
    "allRollsNDices = lambda n: [[a+1]+smallerRoll for a in range(6) for smallerRoll in allRollsNDices(n-1)] if n > 1 else [[a+1] for a in range(6)]"
   ]
  },
  {
   "cell_type": "markdown",
   "metadata": {},
   "source": [
    "# Problem 3\n",
    "\n",
    "Write functions that return, given five dice, True or False if we have Straight, Full, Poker or Generala. \n"
   ]
  },
  {
   "cell_type": "code",
   "execution_count": 3,
   "metadata": {},
   "outputs": [],
   "source": [
    "isStraight = lambda roll: True if len(set(roll)) == len(roll) else False\n",
    "\n",
    "isFull = lambda roll: True if roll.count(min(roll)) == 3 and roll.count(max(roll)) == 2 or \\\n",
    "                              roll.count(min(roll)) == 2 and roll.count(max(roll)) == 3 else False\n",
    "\n",
    "isPoker = lambda roll: True if roll.count(min(roll)) == 4 and roll.count(max(roll)) == 1 or \\\n",
    "                              roll.count(min(roll)) == 1 and roll.count(max(roll)) == 4 else False\n",
    "\n",
    "isGenerala = lambda roll: True if len(set(roll)) == 1 else False"
   ]
  },
  {
   "cell_type": "markdown",
   "metadata": {},
   "source": [
    "# Problem 4\n",
    "Compute the probabilities that you already computed by hand by counting the outcomes describing each roll result in the list of all possible hands served.\n"
   ]
  },
  {
   "cell_type": "code",
   "execution_count": 4,
   "metadata": {},
   "outputs": [
    {
     "name": "stdout",
     "output_type": "stream",
     "text": [
      "0.09259259259259259\n"
     ]
    }
   ],
   "source": [
    "p_served_straigth = len([roll for roll in allRolls5Dice() if isStraight(roll)]) / float(len(allRolls5Dice()))\n",
    "print( p_served_straigth )"
   ]
  },
  {
   "cell_type": "code",
   "execution_count": 5,
   "metadata": {},
   "outputs": [
    {
     "name": "stdout",
     "output_type": "stream",
     "text": [
      "0.038580246913580245\n"
     ]
    }
   ],
   "source": [
    "p_served_full = len([roll for roll in allRolls5Dice() if isFull(roll)]) / float(len(allRolls5Dice()))\n",
    "print( len([roll for roll in allRolls5Dice() if isFull(roll)]) / float(len(allRolls5Dice())) )"
   ]
  },
  {
   "cell_type": "code",
   "execution_count": 6,
   "metadata": {},
   "outputs": [
    {
     "name": "stdout",
     "output_type": "stream",
     "text": [
      "0.019290123456790122\n"
     ]
    }
   ],
   "source": [
    "p_served_poker = len([roll for roll in allRolls5Dice() if isPoker(roll)]) / float(len(allRolls5Dice()))\n",
    "print( p_served_poker )"
   ]
  },
  {
   "cell_type": "code",
   "execution_count": 7,
   "metadata": {},
   "outputs": [
    {
     "name": "stdout",
     "output_type": "stream",
     "text": [
      "0.0007716049382716049\n"
     ]
    }
   ],
   "source": [
    "p_served_generala = len([roll for roll in allRolls5Dice() if isGenerala(roll)]) / float(len(allRolls5Dice()))\n",
    "print( p_served_generala )"
   ]
  },
  {
   "cell_type": "markdown",
   "metadata": {},
   "source": [
    "# Problem 5\n",
    "Compute the probabilities that you already computed by hand by counting the outcomes describing each roll result in the list of all possible hands."
   ]
  },
  {
   "cell_type": "code",
   "execution_count": 14,
   "metadata": {},
   "outputs": [
    {
     "name": "stdout",
     "output_type": "stream",
     "text": [
      "27900 34445550\n"
     ]
    }
   ],
   "source": [
    "notServedGeneralas = [roll for roll in allRolls5Dice() if not isGenerala(roll)]\n",
    "\n",
    "waysOfChooseFromFiveDice = 6 + 6*5 + 6*5*4 + 6*5*4*3 + 6*5*4*3*2\n",
    "\n",
    "unUnsefulPickUpsCount = 0\n",
    "usefulPickUps = []\n",
    "for notServedGenerala in notServedGeneralas:\n",
    "    for diceType in set(notServedGenerala):\n",
    "        usefulPickUp = [dice for dice in notServedGenerala if dice == diceType]\n",
    "        usefulPickUps.append(usefulPickUp)\n",
    "        \n",
    "        unUnsefulPickUpsCount += waysOfChooseFromFiveDice - len(usefulPickUp)\n",
    "        \n",
    "print (len (usefulPickUps), unUnsefulPickUpsCount)"
   ]
  },
  {
   "cell_type": "code",
   "execution_count": 15,
   "metadata": {},
   "outputs": [
    {
     "name": "stdout",
     "output_type": "stream",
     "text": [
      "27900 25947000\n"
     ]
    }
   ],
   "source": [
    "generalaCountAfterReroll = 0\n",
    "notGeneralaCountAfterReroll = 0\n",
    "for usefulPickUp in usefulPickUps:\n",
    "    for reroll in allRollsNDices(5-len(usefulPickUp)):\n",
    "        if isGenerala(usefulPickUp+reroll): generalaCountAfterReroll += 1\n",
    "        else: notGeneralaCountAfterReroll += 1\n",
    "        \n",
    "print (generalaCountAfterReroll, notGeneralaCountAfterReroll)"
   ]
  },
  {
   "cell_type": "code",
   "execution_count": 18,
   "metadata": {},
   "outputs": [
    {
     "name": "stdout",
     "output_type": "stream",
     "text": [
      "0.0012335824503985145\n"
     ]
    }
   ],
   "source": [
    "p_generada_after_two_rolls = p_served_generala + ( generalaCountAfterReroll / (notGeneralaCountAfterReroll + unUnsefulPickUpsCount) )\n",
    "print (p_generada_after_two_rolls)"
   ]
  },
  {
   "cell_type": "markdown",
   "metadata": {},
   "source": [
    "# Problem 6\n",
    "Write a function that plays automatically, always looking for a Generala with a greedy strategy (always keeping the most dices of the same kind and rolling the others) that returns True if we get a Generala and a False otherwise. Which kind of distribution follow this function results? Explain your reasoning within the delivered python notebook.\n"
   ]
  },
  {
   "cell_type": "code",
   "execution_count": 34,
   "metadata": {},
   "outputs": [
    {
     "data": {
      "text/plain": [
       "[4, 2]"
      ]
     },
     "execution_count": 34,
     "metadata": {},
     "output_type": "execute_result"
    }
   ],
   "source": [
    "from random import random\n",
    "\n",
    "randomDice = lambda : int(random() * 6 + 1)"
   ]
  },
  {
   "cell_type": "code",
   "execution_count": 35,
   "metadata": {},
   "outputs": [
    {
     "name": "stdout",
     "output_type": "stream",
     "text": [
      "[2, 3, 2, 1, 5, 2, 5, 1, 5, 2, 6, 3, 2, 2, 1, 1, 1, 2, 3, 4, 1, 1, 2, 4, 6, 4, 1, 6, 6, 5, 2, 4, 1, 3, 5, 5, 4, 6, 6, 5, 3, 5, 4, 2, 2, 3, 3, 3, 6, 3, 5, 1, 6, 6, 3, 2, 6, 3, 1, 6, 3, 2, 6, 6, 3, 5, 5, 3, 4, 2, 4, 1, 6, 3, 1, 1, 2, 1, 1, 3, 5, 6, 1, 2, 6, 3, 2, 4, 1, 4, 4, 1, 5, 6, 6, 5, 6, 2, 6, 3, 1, 6, 5, 6, 2, 2, 6, 1, 4, 3, 1, 4, 3, 2, 6, 5, 5, 6, 4, 5, 1, 1, 4, 3, 5, 4, 1, 3, 5, 6, 2, 2, 2, 1, 3, 4, 2, 3, 6, 2, 6, 4, 1, 2, 2, 3, 4, 1, 4, 4, 6, 2, 5, 2, 2, 6, 5, 2, 3, 6, 5, 5, 5, 1, 2, 6, 3, 6, 3, 4, 1, 1, 6, 1, 4, 5, 5, 3, 1, 4, 2, 5, 2, 6, 3, 1, 2, 5, 2, 6, 6, 6, 5, 5, 4, 6, 1, 1, 2, 4, 3, 2, 3, 2, 2, 4, 6, 1, 2, 6, 4, 5, 1, 3, 2, 4, 1, 1, 4, 4, 5, 1, 6, 3, 5, 4, 1, 5, 5, 4, 3, 1, 6, 1, 1, 3, 5, 2, 5, 5, 4, 3, 5, 1, 1, 1, 3, 5, 4, 5, 3, 4, 3, 1, 1, 2, 6, 2, 2, 4, 4, 5, 1, 6, 4, 2, 6, 5, 1, 6, 1, 4, 4, 1, 6, 1, 1, 5, 6, 5, 6, 4, 5, 5, 2, 3, 1, 6, 3, 4, 1, 1, 1, 3, 3, 6, 6, 1, 4, 6, 1, 6, 3, 4, 5, 3, 4, 6, 1, 2, 2, 4, 6, 1, 3, 3, 6, 1, 1, 3, 3, 2, 4, 2, 4, 1, 6, 1, 4, 1, 1, 1, 2, 6, 4, 3, 5, 6, 5, 5, 4, 2, 6, 3, 5, 6, 4, 4, 5, 6, 5, 6, 6, 1, 5, 4, 6, 4, 1, 4, 6, 5, 2, 5, 1, 5, 2, 1, 3, 2, 6, 6, 2, 4, 6, 4, 6, 5, 5, 6, 6, 2, 2, 5, 3, 3, 1, 4, 5, 3, 4, 1, 6, 2, 4, 1, 2, 6, 2, 2, 4, 4, 6, 4, 3, 3, 4, 4, 5, 2, 2, 4, 4, 2, 1, 1, 3, 4, 6, 6, 5, 6, 5, 3, 4, 3, 6, 4, 2, 1, 2, 4, 2, 3, 1, 2, 6, 4, 5, 6, 4, 3, 6, 2, 6, 2, 3, 4, 1, 2, 6, 4, 1, 1, 5, 4, 2, 1, 3, 1, 6, 2, 3, 3, 4, 5, 1, 4, 1, 2, 1, 6, 3, 1, 4, 6, 6, 5, 5, 5, 2, 1, 5, 2, 5, 3, 4, 6, 4, 5, 2, 6, 5, 5, 6, 1, 2, 4, 6, 3, 3, 6, 3, 1, 5, 2, 4, 3, 3, 5, 1, 2, 3, 4, 4, 4, 1, 3, 3, 2, 1, 1, 2, 1, 3, 2, 1, 2, 1, 1, 4, 1, 6, 6, 6, 1, 3, 4, 3, 3, 1, 1, 6, 2, 5, 5, 6, 2, 3, 2, 6, 5, 3, 1, 2, 1, 2, 4, 3, 5, 5, 5, 4, 4, 4, 1, 3, 5, 5, 1, 3, 5, 1, 3, 2, 3, 5, 5, 1, 3, 4, 4, 2, 6, 5, 1, 6, 4, 1, 3, 1, 6, 3, 3, 1, 3, 1, 4, 3, 5, 1, 1, 5, 2, 4, 5, 4, 3, 5, 4, 3, 4, 3, 3, 1, 4, 3, 4, 1, 5, 3, 1, 1, 3, 2, 6, 2, 2, 5, 6, 6, 6, 6, 3, 4, 6, 4, 3, 3, 1, 6, 1, 4, 2, 2, 4, 6, 6, 5, 6, 4, 6, 1, 3, 1, 3, 2, 6, 1, 5, 1, 6, 1, 6, 4, 2, 4, 3, 3, 3, 6, 4, 6, 4, 2, 4, 4, 5, 3, 2, 6, 5, 5, 5, 6, 6, 5, 3, 5, 4, 3, 5, 6, 1, 2, 2, 1, 6, 6, 5, 2, 2, 2, 3, 3, 6, 1, 6, 1, 5, 4, 5, 4, 4, 3, 4, 3, 3, 5, 3, 4, 1, 4, 6, 3, 5, 4, 2, 5, 5, 2, 4, 3, 5, 5, 1, 2, 1, 1, 1, 5, 2, 6, 4, 2, 2, 1, 4, 4, 4, 4, 3, 5, 1, 6, 5, 3, 6, 1, 3, 1, 3, 3, 5, 4, 2, 5, 3, 6, 3, 6, 1, 5, 1, 1, 1, 1, 5, 1, 1, 3, 3, 2, 5, 2, 1, 4, 5, 5, 1, 2, 4, 2, 6, 5, 4, 4, 1, 2, 3, 6, 6, 5, 2, 5, 2, 5, 5, 4, 1, 6, 2, 3, 2, 5, 5, 6, 6, 2, 5, 5, 6, 4, 4, 3, 3, 1, 6, 1, 2, 2, 5, 1, 6, 4, 1, 3, 1, 6, 3, 5, 3, 2, 1, 6, 5, 5, 3, 4, 3, 6, 3, 3, 2, 4, 3, 6, 2, 5, 5, 1, 1, 6, 6, 2, 3, 3, 6, 5, 5, 1, 3, 2, 4, 3, 2, 1, 2, 1, 3, 1, 6, 4, 6, 4, 1, 1, 1, 4, 1, 5, 4, 4, 4, 2, 6, 4, 5, 3, 4, 2, 5, 6, 4, 3, 5, 1, 2, 3, 5, 2, 3, 6, 1, 3, 4, 3, 5, 1, 3, 2, 1, 1, 5, 1, 3, 1, 4, 4, 3, 2, 3, 5, 4, 3, 1, 3, 5, 2, 6, 6, 6, 4, 3, 1, 4, 5, 5, 1, 3, 5, 3, 3, 3, 4, 5, 3, 6, 2, 5, 1, 6, 4, 1, 6, 5, 3, 6, 1, 2, 5, 2, 1, 6, 2, 5, 1, 5, 5, 3, 3, 5, 3, 3, 6, 4, 6, 5, 1, 2, 3, 4, 2, 3, 4, 4, 6, 5, 3, 2]\n"
     ]
    },
    {
     "data": {
      "image/png": "[encoded data removed]",
      "text/plain": [
       "<Figure size 432x288 with 1 Axes>"
      ]
     },
     "metadata": {},
     "output_type": "display_data"
    }
   ],
   "source": [
    "%matplotlib inline\n",
    "import matplotlib.pyplot as plt \n",
    "\n",
    "plt.hist([randomDice() for i in range(1000)], bins = 6)\n",
    "print ([randomDice() for i in range(1000)])"
   ]
  },
  {
   "cell_type": "code",
   "execution_count": 115,
   "metadata": {},
   "outputs": [],
   "source": [
    "def Play():\n",
    "    firstRoll = [randomDice(),randomDice(),randomDice(),randomDice(),randomDice()]\n",
    "    if isGenerala(firstRoll):\n",
    "        return True\n",
    "    else:\n",
    "        appearings = [firstRoll.count(i) for i in range(1,7)]\n",
    "        diceMaxAppearing = appearings.index(max(appearings))+1\n",
    "        keptHand = [diceMaxAppearing] * max(appearings)\n",
    "        \n",
    "        secondRoll = keptHand\n",
    "        while len(secondRoll) < 5:\n",
    "            secondRoll.append(randomDice())\n",
    "        \n",
    "        if isGenerala(secondRoll): \n",
    "            return True\n",
    "        else:\n",
    "            appearings = [secondRoll.count(i) for i in range(1,7)]\n",
    "            diceMaxAppearing = appearings.index(max(appearings))+1\n",
    "            keptHand = [diceMaxAppearing] * max(appearings)\n",
    "\n",
    "            thirdRoll = keptHand\n",
    "            \n",
    "            while len(thirdRoll) < 5:\n",
    "                thirdRoll.append(randomDice())\n",
    "        \n",
    "        return isGenerala(thirdRoll)"
   ]
  },
  {
   "cell_type": "code",
   "execution_count": 116,
   "metadata": {},
   "outputs": [
    {
     "data": {
      "text/plain": [
       "False"
      ]
     },
     "execution_count": 116,
     "metadata": {},
     "output_type": "execute_result"
    }
   ],
   "source": [
    "Play()"
   ]
  },
  {
   "cell_type": "markdown",
   "metadata": {},
   "source": [
    "# Problem 8\n",
    "Write a function that plays until it gets a Generala, count how many times it had to play to get it and return this number. Which kind of distribution follow this function results? Explain your reasoning within the delivered python notebook.\n"
   ]
  },
  {
   "cell_type": "code",
   "execution_count": 117,
   "metadata": {},
   "outputs": [],
   "source": [
    "def PlayUntilGenerala():\n",
    "    timesPlayed = 1\n",
    "    while not Play():\n",
    "        timesPlayed+=1\n",
    "    return timesPlayed"
   ]
  },
  {
   "cell_type": "code",
   "execution_count": 118,
   "metadata": {},
   "outputs": [],
   "source": [
    "\n",
    "sampleOfDistribution = []\n",
    "\n",
    "for attempt in range(10000):\n",
    "    sampleOfDistribution.append(PlayUntilGenerala())\n",
    "    "
   ]
  },
  {
   "cell_type": "code",
   "execution_count": 121,
   "metadata": {},
   "outputs": [
    {
     "data": {
      "text/plain": [
       "(array([2.170e+03, 1.631e+03, 1.301e+03, 1.085e+03, 7.770e+02, 6.290e+02,\n",
       "        4.350e+02, 4.030e+02, 3.140e+02, 2.340e+02, 1.890e+02, 1.910e+02,\n",
       "        1.420e+02, 8.500e+01, 9.200e+01, 6.900e+01, 5.100e+01, 3.700e+01,\n",
       "        4.000e+01, 2.800e+01, 1.800e+01, 1.700e+01, 1.400e+01, 1.100e+01,\n",
       "        1.100e+01, 7.000e+00, 2.000e+00, 3.000e+00, 3.000e+00, 3.000e+00,\n",
       "        1.000e+00, 3.000e+00, 1.000e+00, 0.000e+00, 0.000e+00, 1.000e+00,\n",
       "        0.000e+00, 1.000e+00, 0.000e+00, 1.000e+00]),\n",
       " array([  1.  ,   5.85,  10.7 ,  15.55,  20.4 ,  25.25,  30.1 ,  34.95,\n",
       "         39.8 ,  44.65,  49.5 ,  54.35,  59.2 ,  64.05,  68.9 ,  73.75,\n",
       "         78.6 ,  83.45,  88.3 ,  93.15,  98.  , 102.85, 107.7 , 112.55,\n",
       "        117.4 , 122.25, 127.1 , 131.95, 136.8 , 141.65, 146.5 , 151.35,\n",
       "        156.2 , 161.05, 165.9 , 170.75, 175.6 , 180.45, 185.3 , 190.15,\n",
       "        195.  ]),\n",
       " <a list of 40 Patch objects>)"
      ]
     },
     "execution_count": 121,
     "metadata": {},
     "output_type": "execute_result"
    },
    {
     "data": {
      "image/png": "[encoded data removed]",
      "text/plain": [
       "<Figure size 432x288 with 1 Axes>"
      ]
     },
     "metadata": {},
     "output_type": "display_data"
    }
   ],
   "source": [
    "plt.hist(sampleOfDistribution, bins=40)"
   ]
  },
  {
   "cell_type": "code",
   "execution_count": null,
   "metadata": {},
   "outputs": [],
   "source": []
  },
  {
   "cell_type": "code",
   "execution_count": null,
   "metadata": {},
   "outputs": [],
   "source": []
  },
  {
   "cell_type": "code",
   "execution_count": null,
   "metadata": {},
   "outputs": [],
   "source": []
  },
  {
   "cell_type": "code",
   "execution_count": null,
   "metadata": {},
   "outputs": [],
   "source": []
  },
  {
   "cell_type": "code",
   "execution_count": null,
   "metadata": {},
   "outputs": [],
   "source": []
  },
  {
   "cell_type": "code",
   "execution_count": null,
   "metadata": {},
   "outputs": [],
   "source": []
  },
  {
   "cell_type": "code",
   "execution_count": null,
   "metadata": {},
   "outputs": [],
   "source": []
  },
  {
   "cell_type": "code",
   "execution_count": null,
   "metadata": {},
   "outputs": [],
   "source": []
  },
  {
   "cell_type": "code",
   "execution_count": null,
   "metadata": {},
   "outputs": [],
   "source": []
  }
 ],
 "metadata": {
  "kernelspec": {
   "display_name": "Python 3",
   "language": "python",
   "name": "python3"
  },
  "language_info": {
   "codemirror_mode": {
    "name": "ipython",
    "version": 3
   },
   "file_extension": ".py",
   "mimetype": "text/x-python",
   "name": "python",
   "nbconvert_exporter": "python",
   "pygments_lexer": "ipython3",
   "version": "3.5.2"
  }
 },
 "nbformat": 4,
 "nbformat_minor": 2
}
